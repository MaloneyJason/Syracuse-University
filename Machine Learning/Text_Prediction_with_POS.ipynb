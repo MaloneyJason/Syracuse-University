{
 "cells": [
  {
   "cell_type": "code",
   "execution_count": 71,
   "metadata": {
    "slideshow": {
     "slide_type": "skip"
    }
   },
   "outputs": [],
   "source": [
    "from nltk.tokenize import RegexpTokenizer\n",
    "import re\n",
    "from collections import defaultdict, Counter # for the model\n",
    "from nltk.util import ngrams \n",
    "import pandas as pd # dataframes \n",
    "import numpy as np \n",
    "import random\n",
    "import matplotlib.pyplot as plt\n",
    "import glob # read multiple files\n",
    "import nltk\n",
    "from operator import itemgetter"
   ]
  },
  {
   "cell_type": "markdown",
   "metadata": {
    "slideshow": {
     "slide_type": "slide"
    }
   },
   "source": [
    "# Text Prediction with Conditional Probabilities"
   ]
  },
  {
   "cell_type": "code",
   "execution_count": 72,
   "metadata": {
    "slideshow": {
     "slide_type": "skip"
    }
   },
   "outputs": [
    {
     "name": "stdout",
     "output_type": "stream",
     "text": [
      "12500\n",
      "12500\n",
      "12500\n",
      "12500\n"
     ]
    }
   ],
   "source": [
    "# data can be found here https://github.com/bing020815/text_prediction_application/tree/master/data/aclImdb\n",
    "train_pos_filenames = glob.glob('/Users/jasonmaloney/Documents/Syracuse/IST 736 Text Mining/Text Mining Project/aclImdb/train/pos/*.txt')\n",
    "train_neg_filenames = glob.glob('/Users/jasonmaloney/Documents/Syracuse/IST 736 Text Mining/Text Mining Project/aclImdb/train/neg/*.txt')\n",
    "test_pos_filenames = glob.glob('/Users/jasonmaloney/Documents/Syracuse/IST 736 Text Mining/Text Mining Project/aclImdb/test/pos/*.txt')\n",
    "test_neg_filenames = glob.glob('/Users/jasonmaloney/Documents/Syracuse/IST 736 Text Mining/Text Mining Project/aclImdb/test/neg/*.txt')\n",
    "print(len(train_pos_filenames))\n",
    "print(len(train_neg_filenames))\n",
    "print(len(test_pos_filenames))\n",
    "print(len(test_neg_filenames))"
   ]
  },
  {
   "cell_type": "code",
   "execution_count": 73,
   "metadata": {
    "slideshow": {
     "slide_type": "skip"
    }
   },
   "outputs": [
    {
     "name": "stdout",
     "output_type": "stream",
     "text": [
      "CPU times: user 5 µs, sys: 1e+03 ns, total: 6 µs\n",
      "Wall time: 11.9 µs\n",
      "train_pos_text:\n",
      "for a movie that gets no respect there sure are a lot of memorable quotes listed for this gem. imagine a movie where joe piscopo is actually funny! maureen stapleton is a scene stealer. the moroni character is an absolute scream. watch for alan \"the skipper\" hale jr. as a police sgt.\n",
      "\n",
      "train_neg_text:\n",
      "working with one of the best shakespeare sources, this film manages to be creditable to it's source, whilst still appealing to a wider audience.branagh steals the film from under fishburne's nose, and there's a talented cast on good form.\n",
      "\n",
      "test_pos_text:\n",
      "based on an actual story, john boorman shows the struggle of an american doctor, whose husband and son were murdered and she was continually plagued with her loss. a holiday to burma with her sister seemed like a good idea to get away from it all, but when her passport was stolen in rangoon, she could not leave the country with her sister, and was forced to stay back until she could get i.d. papers from the american embassy. to fill in a day before she could fly out, she took a trip into the countryside with a tour guide. \"i tried finding something in those stone statues, but nothing stirred in me. i was stone myself.\" suddenly all hell broke loose and she was caught in a political revolt. just when it looked like she had escaped and safely boarded a train, she saw her tour guide get beaten and shot. in a split second she decided to jump from the moving train and try to rescue him, with no thought of herself. continually her life was in danger. here is a woman who demonstrated spontaneous, selfless charity, risking her life to save another. patricia arquette is beautiful, and not just to look at; she has a beautiful heart. this is an unforgettable story. \"we are taught that suffering is the one promise that life always keeps.\"\n",
      "\n",
      "test_neg_text:\n",
      "alan rickman & emma thompson give good performances with southern/new orleans accents in this detective flick. it's worth seeing for their scenes- and rickman's scene with hal holbrook. these three actors mannage to entertain us no matter what the movie, it seems. the plot for the movie shows potential, but one gets the impression in watching the film that it was not pulled off as well as it could have been. the fact that it is cluttered by a rather uninteresting subplot and mostly uninteresting kidnappers really muddles things. the movie is worth a view- if for nothing more than entertaining performances by rickman, thompson, and holbrook.\n"
     ]
    }
   ],
   "source": [
    "%time\n",
    "# read the contents of the train_pos files into a list (each list element is one review)\n",
    "# clean line breaks and html tags like <br\\>\n",
    "train_pos_text = []\n",
    "for filename in train_pos_filenames:\n",
    "    with open(filename, encoding='utf-8') as f:\n",
    "        text = f.read()\n",
    "        text = text.lower()\n",
    "        text = re.sub(r'\\n|<\\w+\\s/>', '', text)\n",
    "        train_pos_text.append(text)\n",
    "print(\"train_pos_text:\")\n",
    "print(train_pos_text[0])\n",
    "\n",
    "\n",
    "# read the contents of the train_pos files into a list (each list element is one review)\n",
    "train_neg_text = []\n",
    "for filename in train_neg_filenames:\n",
    "    with open(filename, encoding = 'utf-8') as f:\n",
    "        text = f.read()\n",
    "        text = text.lower()\n",
    "        text = re.sub(r'\\n|<\\w+\\s/>', '', text)\n",
    "        train_neg_text.append(text)\n",
    "print(\"\\ntrain_neg_text:\")\n",
    "print(train_neg_text[0])\n",
    "\n",
    "test_pos_text = []\n",
    "for filename in test_pos_filenames:\n",
    "    with open(filename, encoding = 'utf-8') as f:\n",
    "        text = f.read()\n",
    "        text = text.lower()\n",
    "        text = re.sub(r'\\n|<\\w+\\s/>', '', text)\n",
    "        test_pos_text.append(text)\n",
    "print('\\ntest_pos_text:')\n",
    "print(test_pos_text[0])\n",
    "\n",
    "test_neg_text = []\n",
    "for filename in test_neg_filenames:\n",
    "    with open(filename, encoding = 'utf-8') as f:\n",
    "        text = f.read()\n",
    "        text = text.lower()\n",
    "        text = re.sub(r'\\n|<\\w+\\s/>', '', text)\n",
    "        test_neg_text.append(text)\n",
    "print('\\ntest_neg_text:')\n",
    "print(test_neg_text[0])"
   ]
  },
  {
   "cell_type": "code",
   "execution_count": 74,
   "metadata": {},
   "outputs": [
    {
     "name": "stdout",
     "output_type": "stream",
     "text": [
      "There are 11772360 tokens. \n",
      "There are 104138 unique tokens. \n"
     ]
    }
   ],
   "source": [
    "# combine all reviews into a long string to get more n-grams\n",
    "words = ''\n",
    "for rev in train_pos_text:\n",
    "    words += ' ' + rev\n",
    "\n",
    "for rev in train_neg_text:\n",
    "    words += ' ' + rev\n",
    "    \n",
    "for rev in test_pos_text:\n",
    "    words += ' ' + rev\n",
    "\n",
    "for rev in test_neg_text:\n",
    "    words += ' ' + rev\n",
    "\n",
    "# define tokenizer to get words\n",
    "tokenizer = RegexpTokenizer(r'\\w+')\n",
    "\n",
    "# words has all the review as one string\n",
    "tokens = tokenizer.tokenize(words)\n",
    "print('There are {} tokens. '.format(len(tokens)))\n",
    "print('There are {} unique tokens. '.format(len(set(tokens))))"
   ]
  },
  {
   "cell_type": "code",
   "execution_count": 75,
   "metadata": {
    "slideshow": {
     "slide_type": "skip"
    }
   },
   "outputs": [],
   "source": [
    "# define the default dictionary - used for saving the model with dill library\n",
    "def default_dict():\n",
    "    return defaultdict(int)"
   ]
  },
  {
   "cell_type": "code",
   "execution_count": 76,
   "metadata": {
    "slideshow": {
     "slide_type": "skip"
    }
   },
   "outputs": [],
   "source": [
    "# get frequency distributions\n",
    "fdist = nltk.FreqDist(tokens)\n",
    "tag_tokens = nltk.pos_tag(tokens)\n",
    "tag_fd = nltk.FreqDist(tag for (word, tag) in tag_tokens)"
   ]
  },
  {
   "cell_type": "markdown",
   "metadata": {
    "slideshow": {
     "slide_type": "slide"
    }
   },
   "source": [
    "# Bigram Part Of Speech Model"
   ]
  },
  {
   "cell_type": "code",
   "execution_count": 77,
   "metadata": {
    "slideshow": {
     "slide_type": "fragment"
    }
   },
   "outputs": [],
   "source": [
    "# function to get the conditional probability of word2 given word1\n",
    "# P(pos2|pos1)\n",
    "def build_tag_bigram_model():\n",
    "    tag_bigram_model = defaultdict(default_dict) # create a model mold\n",
    "    # collect all bigrams and the POS for each word\n",
    "    # tag_tokens has tuples of (word, POS)\n",
    "    for tuple1, tuple2 in ngrams(tag_tokens, 2):\n",
    "        # increase the count (frequency of tokens)\n",
    "        tag_bigram_model[tuple1[1]][tuple2[1]] += 1\n",
    "    # compute the probability P(word2|word1)\n",
    "    for pos1 in tag_bigram_model:\n",
    "        # get total count of bigrams with word1\n",
    "        total_count = float(sum(tag_bigram_model[pos1].values()))\n",
    "        for pos2 in tag_bigram_model[pos1]:\n",
    "            # number of bigrams (word1 word2)/total\n",
    "            tag_bigram_model[pos1][pos2] /= total_count\n",
    "    return tag_bigram_model"
   ]
  },
  {
   "cell_type": "code",
   "execution_count": 78,
   "metadata": {
    "slideshow": {
     "slide_type": "subslide"
    }
   },
   "outputs": [],
   "source": [
    "tag_bigram_model = build_tag_bigram_model()"
   ]
  },
  {
   "cell_type": "code",
   "execution_count": 79,
   "metadata": {
    "slideshow": {
     "slide_type": "fragment"
    }
   },
   "outputs": [],
   "source": [
    "# function to predict the next word based on bigram model\n",
    "def bigram_predict_next_pos(first_pos):\n",
    "    if len(tag_bigram_model[first_pos]) == 0:\n",
    "        return None\n",
    "    else:\n",
    "        # get probabilities of next POS given user input\n",
    "        prob_list = tag_bigram_model[first_pos].values()\n",
    "        #print(prob_list)\n",
    "        # find the max prob\n",
    "        most_likely = max(prob_list)\n",
    "        #print(most_likely)\n",
    "        # predicted words\n",
    "        pred_pos = [pos for pos, prob in tag_bigram_model[first_pos].items() if prob == most_likely]\n",
    "    return pred_pos"
   ]
  },
  {
   "cell_type": "code",
   "execution_count": 80,
   "metadata": {
    "slideshow": {
     "slide_type": "subslide"
    }
   },
   "outputs": [
    {
     "data": {
      "text/plain": [
       "['DT']"
      ]
     },
     "execution_count": 80,
     "metadata": {},
     "output_type": "execute_result"
    }
   ],
   "source": [
    "bigram_predict_next_pos('VBD')"
   ]
  },
  {
   "cell_type": "markdown",
   "metadata": {
    "slideshow": {
     "slide_type": "slide"
    }
   },
   "source": [
    "# Trigram Part Of Speech Model"
   ]
  },
  {
   "cell_type": "code",
   "execution_count": 81,
   "metadata": {
    "slideshow": {
     "slide_type": "fragment"
    }
   },
   "outputs": [],
   "source": [
    "# function to get the conditional probability of word2 given word1\n",
    "# P(pos3|pos1, pos2)\n",
    "def build_tag_trigram_model():\n",
    "    tag_trigram_model = defaultdict(default_dict) # create a model mold\n",
    "    # collect all bigrams and the POS for each word\n",
    "    # tag_tokens has tuples of (word, POS)\n",
    "    for tuple1, tuple2, tuple3 in ngrams(tag_tokens, 3):\n",
    "        # increase the count (frequency of tokens)\n",
    "        tag_trigram_model[tuple1[1], tuple2[1]][tuple3[1]] += 1\n",
    "    # compute the probability P(word2|word1)\n",
    "    for pos1, pos2 in tag_trigram_model:\n",
    "        # get total count of bigrams with word1\n",
    "        total_count = float(sum(tag_trigram_model[pos1, pos2].values()))\n",
    "        for pos3 in tag_trigram_model[pos1, pos2]:\n",
    "            # number of bigrams (word1 word2)/total\n",
    "            tag_trigram_model[pos1, pos2][pos3] /= total_count\n",
    "    return tag_trigram_model"
   ]
  },
  {
   "cell_type": "code",
   "execution_count": 82,
   "metadata": {
    "slideshow": {
     "slide_type": "subslide"
    }
   },
   "outputs": [],
   "source": [
    "tag_trigram_model = build_tag_trigram_model()"
   ]
  },
  {
   "cell_type": "code",
   "execution_count": 83,
   "metadata": {
    "slideshow": {
     "slide_type": "fragment"
    }
   },
   "outputs": [],
   "source": [
    "# function to predict the next word based on bigram model\n",
    "def trigram_predict_next_pos(first_pos, second_pos):\n",
    "    if len(tag_trigram_model[first_pos, second_pos]) == 0:\n",
    "        return None\n",
    "    else:\n",
    "        # get probabilities of next POS given user input\n",
    "        prob_list = tag_trigram_model[first_pos, second_pos].values()\n",
    "        #print(prob_list)\n",
    "        # find the max prob\n",
    "        most_likely = max(prob_list)\n",
    "        #print(most_likely)\n",
    "        # predicted words\n",
    "        pred_pos = [pos for pos, prob in tag_trigram_model[first_pos, second_pos].items() if prob == most_likely]\n",
    "    return pred_pos"
   ]
  },
  {
   "cell_type": "code",
   "execution_count": 84,
   "metadata": {
    "slideshow": {
     "slide_type": "slide"
    }
   },
   "outputs": [
    {
     "data": {
      "text/plain": [
       "['NN']"
      ]
     },
     "execution_count": 84,
     "metadata": {},
     "output_type": "execute_result"
    }
   ],
   "source": [
    "trigram_predict_next_pos('VBD', 'DT')"
   ]
  },
  {
   "cell_type": "code",
   "execution_count": 85,
   "metadata": {},
   "outputs": [
    {
     "data": {
      "text/plain": [
       "defaultdict(int,\n",
       "            {'WDT': 0.019734499771120493,\n",
       "             'EX': 0.002996626146516793,\n",
       "             'IN': 0.2730998762355255,\n",
       "             'VB': 0.00405766633323726,\n",
       "             'WRB': 0.011503314514351593,\n",
       "             'NN': 0.16217102102865796,\n",
       "             'CC': 0.07341522133496092,\n",
       "             'TO': 0.027358165347077405,\n",
       "             'VBZ': 0.11575227890522127,\n",
       "             'VBN': 0.009717489220057756,\n",
       "             'PRP': 0.03904232292920559,\n",
       "             'VBG': 0.017295944029070524,\n",
       "             'RB': 0.050774516951211934,\n",
       "             'DT': 0.04533085804384314,\n",
       "             'NNS': 0.020876071636460224,\n",
       "             'VBD': 0.050510316531882066,\n",
       "             'JJ': 0.024415226986306788,\n",
       "             'MD': 0.014416583309315114,\n",
       "             'WP': 0.011234875585620715,\n",
       "             'VBP': 0.008768063114230654,\n",
       "             'CD': 0.005940977343754415,\n",
       "             'RP': 0.0022308687814002904,\n",
       "             'PRP$': 0.0034261284324861967,\n",
       "             'RBR': 0.0016247619370553098,\n",
       "             'JJR': 0.0019511271609333762,\n",
       "             'JJS': 0.0006612074665581608,\n",
       "             'RBS': 0.0002642004193298634,\n",
       "             'UH': 3.955942107612928e-05,\n",
       "             'PDT': 0.0005679602597358561,\n",
       "             'WP$': 0.0004139610848323528,\n",
       "             'FW': 0.00026702609226387266,\n",
       "             'NNP': 0.0001073755714923509,\n",
       "             'POS': 9.88985526903232e-06,\n",
       "             'SYM': 2.401821993907849e-05})"
      ]
     },
     "execution_count": 85,
     "metadata": {},
     "output_type": "execute_result"
    }
   ],
   "source": [
    "tag_trigram_model['DT', 'NN']"
   ]
  },
  {
   "cell_type": "markdown",
   "metadata": {
    "slideshow": {
     "slide_type": "slide"
    }
   },
   "source": [
    "## Most Common Word in all POS tags"
   ]
  },
  {
   "cell_type": "code",
   "execution_count": 86,
   "metadata": {
    "slideshow": {
     "slide_type": "skip"
    }
   },
   "outputs": [],
   "source": [
    "# list of all the POS in the corpus\n",
    "pos_tag_list = []\n",
    "for pos, count in tag_fd.most_common():\n",
    "    pos_tag_list.append(pos)\n",
    "#print(pos_tag_list)"
   ]
  },
  {
   "cell_type": "code",
   "execution_count": 87,
   "metadata": {
    "slideshow": {
     "slide_type": "skip"
    }
   },
   "outputs": [],
   "source": [
    "# get counts of words with POS tags\n",
    "word_tag_fd = nltk.FreqDist(tag_tokens)\n",
    "#word_tag_fd.most_common(10)\n",
    "# word_tag_fd is a tuple ((word, POS), count)"
   ]
  },
  {
   "cell_type": "code",
   "execution_count": 88,
   "metadata": {
    "slideshow": {
     "slide_type": "fragment"
    }
   },
   "outputs": [
    {
     "data": {
      "text/plain": [
       "{'NN': 'i',\n",
       " 'DT': 'the',\n",
       " 'IN': 'of',\n",
       " 'JJ': 'i',\n",
       " 'RB': 'not',\n",
       " 'NNS': 'people',\n",
       " 'VBZ': 'is',\n",
       " 'PRP': 'it',\n",
       " 'CC': 'and',\n",
       " 'VB': 'be',\n",
       " 'VBP': 'are',\n",
       " 'VBD': 'was',\n",
       " 'TO': 'to',\n",
       " 'VBN': 'been',\n",
       " 'VBG': 'being',\n",
       " 'PRP$': 'his',\n",
       " 'CD': 'one',\n",
       " 'MD': 'can',\n",
       " 'WP': 'who',\n",
       " 'WRB': 'when',\n",
       " 'WDT': 'that',\n",
       " 'RP': 'up',\n",
       " 'JJS': 'best',\n",
       " 'JJR': 'more',\n",
       " 'EX': 'there',\n",
       " 'RBR': 'more',\n",
       " 'PDT': 'all',\n",
       " 'RBS': 'most',\n",
       " 'FW': 'etc',\n",
       " 'NNP': 'x',\n",
       " 'WP$': 'whose',\n",
       " 'UH': 'oh',\n",
       " '$': 'zombi',\n",
       " 'NNPS': 'republicans',\n",
       " \"''\": 'marry',\n",
       " 'SYM': 'b',\n",
       " 'POS': 's',\n",
       " '``': 'neighbour'}"
      ]
     },
     "execution_count": 88,
     "metadata": {},
     "output_type": "execute_result"
    }
   ],
   "source": [
    "# get the top word of each part of speech tag\n",
    "# empty dictionary\n",
    "pos_word_dict = {}\n",
    "# iterate through each part of speech\n",
    "for pos in pos_tag_list:\n",
    "    # keep only the most common word for each POS tag - create a list and keep the first element\n",
    "    # first element is most common because .most_common() is sorted by count\n",
    "    # word_tag_fd is a tuple ((word, POS), count)\n",
    "    # word = word_tag[0], pos = word_tag[1]\n",
    "    pos_word_dict[pos] = [word_tag[0] for (word_tag, count) in word_tag_fd.most_common() if word_tag[1] == pos][0]\n",
    "    #print([wt[0] for (wt, _) in word_tag_fd.most_common() if wt[1] == pos][0], '---', pos)\n",
    "pos_word_dict"
   ]
  },
  {
   "cell_type": "markdown",
   "metadata": {
    "slideshow": {
     "slide_type": "slide"
    }
   },
   "source": [
    "# Bigram Text Prediction"
   ]
  },
  {
   "cell_type": "code",
   "execution_count": 89,
   "metadata": {
    "slideshow": {
     "slide_type": "fragment"
    }
   },
   "outputs": [],
   "source": [
    "# function to get the conditional probability of word2 given word1\n",
    "# P(word2|word1)\n",
    "def build_bigram_model():\n",
    "    bigram_model = defaultdict(default_dict) # create a model mold\n",
    "    # collect all bigrams for (w1, w2)\n",
    "    for word1, word2 in ngrams(tokens, 2):\n",
    "        # increase the count (frequency of tokens)\n",
    "        bigram_model[word1][word2] += 1\n",
    "    # compute the probability P(word2|word1)\n",
    "    for word1 in bigram_model:\n",
    "        # get total count of bigrams with word1\n",
    "        total_count = float(sum(bigram_model[word1].values()))\n",
    "        for word2 in bigram_model[word1]:\n",
    "            # number of bigrams (word1 word2)/total\n",
    "            bigram_model[word1][word2] /= total_count\n",
    "    return bigram_model"
   ]
  },
  {
   "cell_type": "code",
   "execution_count": 90,
   "metadata": {
    "slideshow": {
     "slide_type": "subslide"
    }
   },
   "outputs": [],
   "source": [
    "# build the model\n",
    "bigram_model = build_bigram_model()"
   ]
  },
  {
   "cell_type": "code",
   "execution_count": 91,
   "metadata": {
    "slideshow": {
     "slide_type": "fragment"
    }
   },
   "outputs": [],
   "source": [
    "# function to predict the next word based on bigram model\n",
    "# input is a list of tokens\n",
    "def bigram_predict_next_word(token):\n",
    "    if len(bigram_model[token]) == 0:\n",
    "        # get POS of the input word\n",
    "        #token = tokenizer.tokenize(first_word)\n",
    "        # get the part of speech [(word, POS)]\n",
    "        pos = nltk.pos_tag(token)[0][1]\n",
    "        # predict next word POS - returns a list\n",
    "        pred_pos = bigram_predict_next_pos(pos)\n",
    "        # get the most common word of predicted POS\n",
    "        pred_words = pos_word_dict[pred_pos[0]]\n",
    "    \n",
    "    else:\n",
    "        # tokenize user input\n",
    "        #user_tokens = tokenizer.tokenize(first_word)\n",
    "        #print('input:', user_tokens[0])\n",
    "        # get probabilities of next word given user input\n",
    "        prob_list = bigram_model[token].values()\n",
    "        #print(prob_list)\n",
    "        # find the max prob\n",
    "        most_likely = max(prob_list)\n",
    "        #print(most_likely)\n",
    "        # predicted words\n",
    "        pred_words = [word for word, prob in bigram_model[token].items() if prob == most_likely]\n",
    "        # if there is more than one predicted word, return the most frequent in the corpus\n",
    "        if len(pred_words) > 1:\n",
    "            word_dict = {}\n",
    "            # get the frequency counts of the predicted word\n",
    "            for word in pred_words:\n",
    "                word_dict[word] = fdist[word]\n",
    "            # get the word with max freqency\n",
    "            for word,count in word_dict.items():\n",
    "                if count == max(word_dict.values()):\n",
    "                    pred_words = word\n",
    "            \n",
    "    return pred_words\n",
    "    "
   ]
  },
  {
   "cell_type": "code",
   "execution_count": 92,
   "metadata": {
    "slideshow": {
     "slide_type": "slide"
    }
   },
   "outputs": [
    {
     "data": {
      "text/plain": [
       "['it']"
      ]
     },
     "execution_count": 92,
     "metadata": {},
     "output_type": "execute_result"
    }
   ],
   "source": [
    "user_input = tokenizer.tokenize('but') # <- input a word here\n",
    "# stores as a list - use the first entry as the word\n",
    "bigram_predict_next_word(user_input[0])"
   ]
  },
  {
   "cell_type": "markdown",
   "metadata": {
    "slideshow": {
     "slide_type": "slide"
    }
   },
   "source": [
    "# Trigram Text Prediction"
   ]
  },
  {
   "cell_type": "code",
   "execution_count": 93,
   "metadata": {
    "slideshow": {
     "slide_type": "fragment"
    }
   },
   "outputs": [],
   "source": [
    "def build_trigram_model():\n",
    "    trigram_model = defaultdict(default_dict) # create a model mold\n",
    "    # collect trigrams for word1, word2, word3\n",
    "    for word1, word2, word3 in ngrams(tokens , 3):\n",
    "        # increase the count \n",
    "        trigram_model[word1, word2][word3] += 1\n",
    "        # compute the probability P(word1, word|word3)\n",
    "    for word1_word2 in trigram_model:\n",
    "        # get total count of trigrams with word1 word2\n",
    "        total_count = float(sum(trigram_model[word1_word2].values()))\n",
    "        for word3 in trigram_model[word1_word2]:\n",
    "            # number of trigrams/total\n",
    "            trigram_model[word1_word2][word3] /= total_count\n",
    "    return trigram_model   "
   ]
  },
  {
   "cell_type": "code",
   "execution_count": 94,
   "metadata": {
    "slideshow": {
     "slide_type": "subslide"
    }
   },
   "outputs": [],
   "source": [
    "# define the model\n",
    "trigram_model = build_trigram_model()"
   ]
  },
  {
   "cell_type": "code",
   "execution_count": 95,
   "metadata": {
    "slideshow": {
     "slide_type": "fragment"
    }
   },
   "outputs": [],
   "source": [
    "# function to predict next word with trigram model\n",
    "def trigram_predict_next_word(tokens):\n",
    "    # tokenize user input\n",
    "    #user_tokens = tokenizer.tokenize(two_words)\n",
    "    #print(user_tokens)\n",
    "    # if input is not in the vocabulary - use POS\n",
    "    if len(trigram_model[tokens[-2], tokens[-1]]) == 0:\n",
    "        # get POS of the input words\n",
    "        tagged_words = nltk.pos_tag(tokens[-2], tokens[-1])\n",
    "        pos1, pos2 = tagged_words[0][1], tagged_words[1][1]\n",
    "        # predict next word POS - needs two arguments\n",
    "        pred_pos = trigram_predict_next_pos(pos1, pos2)\n",
    "        #print(pred_pos)\n",
    "        # get the most common word of predicted POS\n",
    "        pred_words = pos_word_dict[pred_pos[0]]\n",
    "        \n",
    "    else:\n",
    "        # get probabilities of next word\n",
    "        prob_list = trigram_model[tokens[-2], tokens[-1]].values()\n",
    "        # find the max prob\n",
    "        #print(prob_list)\n",
    "        most_likely = max(prob_list)\n",
    "        #print(most_likely)\n",
    "        # predicted words\n",
    "        pred_words = [word for word, prob in trigram_model[tokens[-2], tokens[-1]].items() if prob == most_likely]\n",
    "        # if there are more than one word in pred_words\n",
    "        if len(pred_words) > 1:\n",
    "            # create a dictionary to pair up words and counts\n",
    "            word_dict = {}\n",
    "            # iterate through all pred_words choices\n",
    "            for word in pred_words:\n",
    "                # add word:count to dictionary\n",
    "                word_dict[word] = fdist[word]\n",
    "            for word,count in word_dict.items():\n",
    "                # find the word that has the highest count - that is the word to return\n",
    "                if count == max(word_dict.values()):\n",
    "                    pred_words = word\n",
    "    return pred_words"
   ]
  },
  {
   "cell_type": "code",
   "execution_count": 96,
   "metadata": {
    "slideshow": {
     "slide_type": "slide"
    }
   },
   "outputs": [
    {
     "data": {
      "text/plain": [
       "'to'"
      ]
     },
     "execution_count": 96,
     "metadata": {},
     "output_type": "execute_result"
    }
   ],
   "source": [
    "user_input = tokenizer.tokenize('the oven') # <- input a phrase here\n",
    "trigram_predict_next_word(user_input)"
   ]
  },
  {
   "cell_type": "code",
   "execution_count": 97,
   "metadata": {},
   "outputs": [
    {
     "data": {
      "text/plain": [
       "defaultdict(int,\n",
       "            {'is': 0.128909197618848,\n",
       "             'with': 0.007713591011989603,\n",
       "             'very': 0.001509180850171879,\n",
       "             'was': 0.05906766160811604,\n",
       "             'spooky': 4.1921690282552195e-05,\n",
       "             'has': 0.01852938710488807,\n",
       "             'had': 0.008635868198205752,\n",
       "             'looks': 0.001970319443279953,\n",
       "             'parolini': 4.1921690282552195e-05,\n",
       "             'ending': 8.384338056510439e-05,\n",
       "             'shows': 0.002179927894692714,\n",
       "             'itself': 0.010438500880355497,\n",
       "             'will': 0.002808753248930997,\n",
       "             'features': 0.0009222771862161483,\n",
       "             'i': 0.03345350884547665,\n",
       "             'progresses': 0.001760710991867192,\n",
       "             'though': 0.0015930242307369833,\n",
       "             'so': 0.005449819736731785,\n",
       "             'like': 0.0016349459210195354,\n",
       "             'not': 0.0027249098683658924,\n",
       "             'wait': 0.00016768676113020878,\n",
       "             'ends': 0.004317934099102876,\n",
       "             'and': 0.037813364634862075,\n",
       "             'seems': 0.003018361700343758,\n",
       "             'as': 0.011570386517984406,\n",
       "             'it': 0.017732874989519577,\n",
       "             'ie': 4.1921690282552195e-05,\n",
       "             's': 0.024566110505575584,\n",
       "             'goes': 0.0033956569128867275,\n",
       "             'fun': 0.00016768676113020878,\n",
       "             'silly': 4.1921690282552195e-05,\n",
       "             'communicated': 4.1921690282552195e-05,\n",
       "             'even': 0.003521421983734384,\n",
       "             'takes': 0.004527542550515636,\n",
       "             'before': 0.0019283977529974009,\n",
       "             'that': 0.014672591598893267,\n",
       "             'does': 0.00687515720633856,\n",
       "             'at': 0.0051982895950364715,\n",
       "             'centers': 0.0005030602833906263,\n",
       "             'explores': 0.00020960845141276097,\n",
       "             'the': 0.032656996730108155,\n",
       "             'never': 0.002389536346105475,\n",
       "             'perfectly': 0.00037729521254296975,\n",
       "             'this': 0.006749392135490903,\n",
       "             'could': 0.004527542550515636,\n",
       "             'coasted': 4.1921690282552195e-05,\n",
       "             'occurs': 0.00012576507084765658,\n",
       "             'plus': 0.00020960845141276097,\n",
       "             'but': 0.015301416953131551,\n",
       "             'which': 0.006330175232665381,\n",
       "             'for': 0.012450742013918001,\n",
       "             'perhaps': 0.00046113859310807414,\n",
       "             'when': 0.004695229311645846,\n",
       "             'brings': 0.00046113859310807414,\n",
       "             'worth': 0.0008384338056510439,\n",
       "             'follows': 0.001509180850171879,\n",
       "             'benefits': 8.384338056510439e-05,\n",
       "             'you': 0.008300494675945335,\n",
       "             'still': 0.0014672591598893267,\n",
       "             'whom': 4.1921690282552195e-05,\n",
       "             'where': 0.0031441267711914142,\n",
       "             'isn': 0.0038148738157122494,\n",
       "             'actually': 0.0020122411335625054,\n",
       "             'probably': 0.0006707470445208351,\n",
       "             'would': 0.006791313825773455,\n",
       "             'entertains': 4.1921690282552195e-05,\n",
       "             'belongs': 0.00025153014169531317,\n",
       "             'makes': 0.0026829881780833405,\n",
       "             'portrays': 0.0005869036639557307,\n",
       "             'palpatine': 4.1921690282552195e-05,\n",
       "             'kept': 0.0009641988764987004,\n",
       "             'works': 0.0009641988764987004,\n",
       "             'some': 0.0016349459210195354,\n",
       "             'comes': 0.001089963947346357,\n",
       "             'did': 0.0033118135323216232,\n",
       "             'because': 0.004862916072776054,\n",
       "             'whilst': 8.384338056510439e-05,\n",
       "             'starts': 0.007629747631424499,\n",
       "             'doesn': 0.005407898046449233,\n",
       "             'lead': 4.1921690282552195e-05,\n",
       "             'won': 0.00033537352226041756,\n",
       "             'modesty': 4.1921690282552195e-05,\n",
       "             'a': 0.009516223694139347,\n",
       "             'lies': 0.00025153014169531317,\n",
       "             'ragpal': 4.1921690282552195e-05,\n",
       "             'opens': 0.002263771275257818,\n",
       "             'concept': 4.1921690282552195e-05,\n",
       "             'justice': 0.00025153014169531317,\n",
       "             'didn': 0.0022218495849752663,\n",
       "             'being': 0.001089963947346357,\n",
       "             'showing': 0.00012576507084765658,\n",
       "             'gets': 0.0027668315586484448,\n",
       "             'he': 0.00515636790475392,\n",
       "             'captured': 0.00016768676113020878,\n",
       "             'in': 0.01186383834996227,\n",
       "             'plot': 0.0005869036639557307,\n",
       "             'definitely': 0.0005030602833906263,\n",
       "             'intense': 4.1921690282552195e-05,\n",
       "             'deserves': 0.0006288253542382829,\n",
       "             'making': 0.0005869036639557307,\n",
       "             'more': 0.002431458036388027,\n",
       "             'biz': 0.00016768676113020878,\n",
       "             'usually': 4.1921690282552195e-05,\n",
       "             'always': 0.00012576507084765658,\n",
       "             'from': 0.0037729521254296974,\n",
       "             'then': 0.001970319443279953,\n",
       "             'to': 0.012534585394483105,\n",
       "             'timon': 4.1921690282552195e-05,\n",
       "             'over': 0.0008384338056510439,\n",
       "             'further': 0.00012576507084765658,\n",
       "             'offers': 0.0005449819736731785,\n",
       "             'depicts': 0.0010061205667812527,\n",
       "             'again': 0.001760710991867192,\n",
       "             'great': 0.00037729521254296975,\n",
       "             'seemed': 0.00171878930158464,\n",
       "             'finding': 4.1921690282552195e-05,\n",
       "             'thought': 0.00016768676113020878,\n",
       "             'by': 0.002389536346105475,\n",
       "             'about': 0.002431458036388027,\n",
       "             'too': 0.0012576507084765657,\n",
       "             'taken': 4.1921690282552195e-05,\n",
       "             'together': 0.0007965121153684916,\n",
       "             'business': 0.0010480422570638048,\n",
       "             'stands': 0.00041921690282552195,\n",
       "             'seats': 4.1921690282552195e-05,\n",
       "             'if': 0.00477907269221095,\n",
       "             'were': 0.0038148738157122494,\n",
       "             'roscoe': 4.1921690282552195e-05,\n",
       "             'also': 0.005994801710404963,\n",
       "             'are': 0.008468181437075542,\n",
       "             'james': 0.00016768676113020878,\n",
       "             'tell': 4.1921690282552195e-05,\n",
       "             'clearly': 0.00046113859310807414,\n",
       "             'of': 0.002179927894692714,\n",
       "             'can': 0.0020122411335625054,\n",
       "             'originally': 0.00016768676113020878,\n",
       "             'much': 0.0006288253542382829,\n",
       "             'focus': 8.384338056510439e-05,\n",
       "             'expecting': 0.00020960845141276097,\n",
       "             'might': 0.0014253374696067745,\n",
       "             'cinematography': 8.384338056510439e-05,\n",
       "             'screen': 0.00033537352226041756,\n",
       "             'put': 8.384338056510439e-05,\n",
       "             'segues': 4.1921690282552195e-05,\n",
       "             'hints': 0.00012576507084765658,\n",
       "             'erupts': 4.1921690282552195e-05,\n",
       "             'pretty': 0.00046113859310807414,\n",
       "             'really': 0.003521421983734384,\n",
       "             'hated': 4.1921690282552195e-05,\n",
       "             'instead': 0.0005869036639557307,\n",
       "             'holly': 0.00016768676113020878,\n",
       "             'held': 0.00020960845141276097,\n",
       "             'reasonably': 4.1921690282552195e-05,\n",
       "             'his': 0.0007126687348033873,\n",
       "             'climaxes': 0.00020960845141276097,\n",
       "             'loin': 4.1921690282552195e-05,\n",
       "             'qdlm': 4.1921690282552195e-05,\n",
       "             'started': 0.002641066487800788,\n",
       "             'they': 0.003982560576842458,\n",
       "             'contains': 0.001131885637628909,\n",
       "             'gave': 0.0005869036639557307,\n",
       "             'made': 0.0018445543724322966,\n",
       "             'such': 0.0005449819736731785,\n",
       "             'event': 4.1921690282552195e-05,\n",
       "             'says': 0.0005030602833906263,\n",
       "             'mostly': 0.00037729521254296975,\n",
       "             'drags': 0.0010480422570638048,\n",
       "             'holes': 8.384338056510439e-05,\n",
       "             'we': 0.003731030435147145,\n",
       "             'strings': 4.1921690282552195e-05,\n",
       "             'my': 0.0012576507084765657,\n",
       "             'there': 0.004988681143623711,\n",
       "             'hopper': 4.1921690282552195e-05,\n",
       "             'however': 0.002389536346105475,\n",
       "             'overall': 0.0012157290181940136,\n",
       "             'especially': 0.0009641988764987004,\n",
       "             'races': 4.1921690282552195e-05,\n",
       "             'yet': 0.0007965121153684916,\n",
       "             'painful': 8.384338056510439e-05,\n",
       "             'basically': 0.0007126687348033873,\n",
       "             'yes': 0.0005869036639557307,\n",
       "             'slow': 0.00012576507084765658,\n",
       "             'plays': 0.0008384338056510439,\n",
       "             'well': 0.001509180850171879,\n",
       "             'accompanied': 8.384338056510439e-05,\n",
       "             'holds': 0.00037729521254296975,\n",
       "             'suffers': 0.0006707470445208351,\n",
       "             'printed': 4.1921690282552195e-05,\n",
       "             'your': 8.384338056510439e-05,\n",
       "             'concentrates': 8.384338056510439e-05,\n",
       "             'clockwatchers': 4.1921690282552195e-05,\n",
       "             'often': 0.00020960845141276097,\n",
       "             'two': 0.00037729521254296975,\n",
       "             'do': 0.0007965121153684916,\n",
       "             'played': 0.00041921690282552195,\n",
       "             'delivers': 0.00041921690282552195,\n",
       "             'she': 0.003269891842039071,\n",
       "             'may': 0.001760710991867192,\n",
       "             'experience': 0.00020960845141276097,\n",
       "             'during': 0.00029345183197786536,\n",
       "             'die': 8.384338056510439e-05,\n",
       "             'passion': 4.1921690282552195e-05,\n",
       "             'stops': 0.00016768676113020878,\n",
       "             'otherwise': 0.00025153014169531317,\n",
       "             'turned': 0.0006707470445208351,\n",
       "             '13': 4.1921690282552195e-05,\n",
       "             'until': 0.0007545904250859395,\n",
       "             'who': 0.001131885637628909,\n",
       "             'runs': 0.0005869036639557307,\n",
       "             'max': 4.1921690282552195e-05,\n",
       "             'within': 0.0006707470445208351,\n",
       "             'flight': 4.1921690282552195e-05,\n",
       "             'goer': 0.00012576507084765658,\n",
       "             'without': 0.0010061205667812527,\n",
       "             'deserved': 0.00012576507084765658,\n",
       "             'one': 0.0018864760627148487,\n",
       "             'cause': 0.00025153014169531317,\n",
       "             'stays': 0.00029345183197786536,\n",
       "             'exists': 8.384338056510439e-05,\n",
       "             'ended': 0.0020541628238450573,\n",
       "             'hilarious': 0.00012576507084765658,\n",
       "             'paints': 8.384338056510439e-05,\n",
       "             'gives': 0.0012576507084765657,\n",
       "             'moves': 0.0007965121153684916,\n",
       "             'going': 0.00171878930158464,\n",
       "             'tells': 0.0012157290181940136,\n",
       "             'make': 0.00033537352226041756,\n",
       "             'created': 8.384338056510439e-05,\n",
       "             'commissioned': 4.1921690282552195e-05,\n",
       "             'presents': 0.00041921690282552195,\n",
       "             'or': 0.00343757860316928,\n",
       "             'right': 0.00046113859310807414,\n",
       "             'hit': 0.00033537352226041756,\n",
       "             'fills': 4.1921690282552195e-05,\n",
       "             'please': 0.00020960845141276097,\n",
       "             'indeed': 4.1921690282552195e-05,\n",
       "             'devil': 8.384338056510439e-05,\n",
       "             'company': 0.00025153014169531317,\n",
       "             'points': 0.00012576507084765658,\n",
       "             'spoke': 4.1921690282552195e-05,\n",
       "             'begins': 0.0025153014169531315,\n",
       "             'ok': 0.00029345183197786536,\n",
       "             'all': 0.002850674939213549,\n",
       "             'reached': 0.00025153014169531317,\n",
       "             'slap': 4.1921690282552195e-05,\n",
       "             'helped': 8.384338056510439e-05,\n",
       "             'exploits': 4.1921690282552195e-05,\n",
       "             'nothing': 0.0005030602833906263,\n",
       "             'yourself': 0.00016768676113020878,\n",
       "             'mainly': 0.00025153014169531317,\n",
       "             'puts': 0.00025153014169531317,\n",
       "             'calls': 0.00016768676113020878,\n",
       "             'touches': 0.00016768676113020878,\n",
       "             'progressed': 0.0005449819736731785,\n",
       "             'ain': 8.384338056510439e-05,\n",
       "             'anyway': 0.0005449819736731785,\n",
       "             'tetsuo': 4.1921690282552195e-05,\n",
       "             'an': 0.001089963947346357,\n",
       "             'stars': 0.0005869036639557307,\n",
       "             'almost': 0.0007126687348033873,\n",
       "             'builds': 0.00016768676113020878,\n",
       "             'ronny': 4.1921690282552195e-05,\n",
       "             'corky': 4.1921690282552195e-05,\n",
       "             'enemy': 8.384338056510439e-05,\n",
       "             'borzage': 4.1921690282552195e-05,\n",
       "             'poses': 8.384338056510439e-05,\n",
       "             'certainly': 0.00033537352226041756,\n",
       "             'how': 0.00046113859310807414,\n",
       "             'annie': 4.1921690282552195e-05,\n",
       "             'ellen': 4.1921690282552195e-05,\n",
       "             'stuck': 8.384338056510439e-05,\n",
       "             'multiple': 4.1921690282552195e-05,\n",
       "             'now': 0.001089963947346357,\n",
       "             'tips': 4.1921690282552195e-05,\n",
       "             'seem': 0.0008384338056510439,\n",
       "             'stereotypes': 4.1921690282552195e-05,\n",
       "             'gunga': 4.1921690282552195e-05,\n",
       "             'homeward': 4.1921690282552195e-05,\n",
       "             'check': 0.00012576507084765658,\n",
       "             'success': 4.1921690282552195e-05,\n",
       "             'creating': 8.384338056510439e-05,\n",
       "             'both': 0.00029345183197786536,\n",
       "             'keeps': 0.0007126687348033873,\n",
       "             'carrey': 4.1921690282552195e-05,\n",
       "             'despite': 0.00046113859310807414,\n",
       "             'worthwhile': 0.00029345183197786536,\n",
       "             'wonderfully': 4.1921690282552195e-05,\n",
       "             'picks': 0.0005449819736731785,\n",
       "             'on': 0.0036052653642994884,\n",
       "             'scene': 0.00016768676113020878,\n",
       "             'feels': 0.0007545904250859395,\n",
       "             'unfolds': 0.00020960845141276097,\n",
       "             'trust': 4.1921690282552195e-05,\n",
       "             'listings': 4.1921690282552195e-05,\n",
       "             'found': 4.1921690282552195e-05,\n",
       "             'casomai': 4.1921690282552195e-05,\n",
       "             'bear': 8.384338056510439e-05,\n",
       "             'flashes': 8.384338056510439e-05,\n",
       "             'glorifies': 8.384338056510439e-05,\n",
       "             'deals': 0.0009222771862161483,\n",
       "             'moonwalker': 0.00012576507084765658,\n",
       "             'gómez': 4.1921690282552195e-05,\n",
       "             'portrais': 4.1921690282552195e-05,\n",
       "             'streets': 4.1921690282552195e-05,\n",
       "             'maker': 0.0005449819736731785,\n",
       "             'spins': 4.1921690282552195e-05,\n",
       "             'focuses': 0.0010061205667812527,\n",
       "             'fallows': 4.1921690282552195e-05,\n",
       "             'touch': 4.1921690282552195e-05,\n",
       "             'into': 0.0006288253542382829,\n",
       "             'constantly': 0.00016768676113020878,\n",
       "             'twelve': 4.1921690282552195e-05,\n",
       "             'building': 0.00012576507084765658,\n",
       "             'star': 0.00025153014169531317,\n",
       "             'leaves': 0.00041921690282552195,\n",
       "             'released': 0.00016768676113020878,\n",
       "             'genuinely': 0.00012576507084765658,\n",
       "             'responsible': 4.1921690282552195e-05,\n",
       "             'box': 0.00016768676113020878,\n",
       "             'macarthur': 4.1921690282552195e-05,\n",
       "             'versions': 0.00016768676113020878,\n",
       "             'charles': 8.384338056510439e-05,\n",
       "             'purple': 8.384338056510439e-05,\n",
       "             'audience': 0.00016768676113020878,\n",
       "             'although': 0.0010061205667812527,\n",
       "             'ever': 0.00016768676113020878,\n",
       "             'scarlett': 0.00012576507084765658,\n",
       "             'slowly': 0.00020960845141276097,\n",
       "             'rea': 4.1921690282552195e-05,\n",
       "             'blew': 8.384338056510439e-05,\n",
       "             'mack': 4.1921690282552195e-05,\n",
       "             'down': 0.00046113859310807414,\n",
       "             'alexandre': 4.1921690282552195e-05,\n",
       "             'thankfully': 8.384338056510439e-05,\n",
       "             'once': 0.00037729521254296975,\n",
       "             'tries': 0.0015930242307369833,\n",
       "             'damroo': 4.1921690282552195e-05,\n",
       "             'line': 4.1921690282552195e-05,\n",
       "             'getting': 0.00016768676113020878,\n",
       "             'celebrates': 0.00012576507084765658,\n",
       "             'continues': 0.0008384338056510439,\n",
       "             'returns': 4.1921690282552195e-05,\n",
       "             'after': 0.0019283977529974009,\n",
       "             'ned': 4.1921690282552195e-05,\n",
       "             'second': 4.1921690282552195e-05,\n",
       "             'wasn': 0.002808753248930997,\n",
       "             'given': 0.00020960845141276097,\n",
       "             'section': 8.384338056510439e-05,\n",
       "             'quite': 0.00037729521254296975,\n",
       "             'smooth': 4.1921690282552195e-05,\n",
       "             'hats': 4.1921690282552195e-05,\n",
       "             'everywhere': 4.1921690282552195e-05,\n",
       "             'lags': 4.1921690282552195e-05,\n",
       "             'gently': 4.1921690282552195e-05,\n",
       "             'edith': 4.1921690282552195e-05,\n",
       "             'first': 0.0018445543724322966,\n",
       "             'demonstrates': 8.384338056510439e-05,\n",
       "             'quietly': 4.1921690282552195e-05,\n",
       "             'rather': 0.00046113859310807414,\n",
       "             'closely': 8.384338056510439e-05,\n",
       "             'none': 8.384338056510439e-05,\n",
       "             'wonderful': 8.384338056510439e-05,\n",
       "             'got': 0.0012576507084765657,\n",
       "             'its': 0.0014253374696067745,\n",
       "             'drag': 0.00012576507084765658,\n",
       "             'retains': 8.384338056510439e-05,\n",
       "             'john': 0.00012576507084765658,\n",
       "             'deniro': 4.1921690282552195e-05,\n",
       "             'fails': 0.0012576507084765657,\n",
       "             'means': 8.384338056510439e-05,\n",
       "             'sullivan': 4.1921690282552195e-05,\n",
       "             'only': 0.0020122411335625054,\n",
       "             'theater': 0.0018864760627148487,\n",
       "             'here': 0.00046113859310807414,\n",
       "             'april': 8.384338056510439e-05,\n",
       "             'just': 0.006455940303513038,\n",
       "             'luchino': 4.1921690282552195e-05,\n",
       "             'ossessione': 4.1921690282552195e-05,\n",
       "             'since': 0.0009222771862161483,\n",
       "             'rarely': 0.00012576507084765658,\n",
       "             'purpose': 4.1921690282552195e-05,\n",
       "             'resnais': 4.1921690282552195e-05,\n",
       "             'jong': 4.1921690282552195e-05,\n",
       "             'people': 0.0005869036639557307,\n",
       "             'men': 8.384338056510439e-05,\n",
       "             'titanic': 0.00016768676113020878,\n",
       "             'montenegro': 4.1921690282552195e-05,\n",
       "             'coupled': 4.1921690282552195e-05,\n",
       "             'world': 0.0005030602833906263,\n",
       "             'have': 0.0011738073279114615,\n",
       "             'hits': 0.00020960845141276097,\n",
       "             'reiterated': 4.1921690282552195e-05,\n",
       "             'ridiculous': 0.00012576507084765658,\n",
       "             'loses': 0.00037729521254296975,\n",
       "             'che': 4.1921690282552195e-05,\n",
       "             'refers': 8.384338056510439e-05,\n",
       "             'allowed': 4.1921690282552195e-05,\n",
       "             'displayed': 4.1921690282552195e-05,\n",
       "             'must': 0.00037729521254296975,\n",
       "             'judas': 8.384338056510439e-05,\n",
       "             'while': 0.0012157290181940136,\n",
       "             'focalize': 4.1921690282552195e-05,\n",
       "             'hoffman': 4.1921690282552195e-05,\n",
       "             'reading': 4.1921690282552195e-05,\n",
       "             'resolves': 4.1921690282552195e-05,\n",
       "             'manages': 0.00046113859310807414,\n",
       "             'fell': 0.00029345183197786536,\n",
       "             'isnt': 4.1921690282552195e-05,\n",
       "             'walking': 8.384338056510439e-05,\n",
       "             'bound': 4.1921690282552195e-05,\n",
       "             'stacy': 4.1921690282552195e-05,\n",
       "             'mid': 4.1921690282552195e-05,\n",
       "             'greatly': 8.384338056510439e-05,\n",
       "             'based': 0.0005449819736731785,\n",
       "             'kicks': 0.00012576507084765658,\n",
       "             'gains': 8.384338056510439e-05,\n",
       "             'falls': 0.0009641988764987004,\n",
       "             'spirit': 8.384338056510439e-05,\n",
       "             'spite': 4.1921690282552195e-05,\n",
       "             'completely': 0.0009222771862161483,\n",
       "             'dark': 8.384338056510439e-05,\n",
       "             'took': 0.0007126687348033873,\n",
       "             'river': 4.1921690282552195e-05,\n",
       "             'house': 0.00016768676113020878,\n",
       "             'invents': 4.1921690282552195e-05,\n",
       "             'what': 0.0018026326821497442,\n",
       "             'rolling': 8.384338056510439e-05,\n",
       "             'opened': 0.00016768676113020878,\n",
       "             'truly': 0.00020960845141276097,\n",
       "             'intends': 4.1921690282552195e-05,\n",
       "             'revolves': 0.0006288253542382829,\n",
       "             'nor': 0.00025153014169531317,\n",
       "             'b': 8.384338056510439e-05,\n",
       "             'her': 0.0006288253542382829,\n",
       "             'twice': 0.00029345183197786536,\n",
       "             'climbing': 4.1921690282552195e-05,\n",
       "             'main': 0.00016768676113020878,\n",
       "             'except': 0.0007965121153684916,\n",
       "             'lost': 0.00012576507084765658,\n",
       "             'baise': 4.1921690282552195e-05,\n",
       "             'streisand': 4.1921690282552195e-05,\n",
       "             'out': 0.0006707470445208351,\n",
       "             'having': 0.00033537352226041756,\n",
       "             'reminded': 0.00016768676113020878,\n",
       "             'merely': 0.00012576507084765658,\n",
       "             'becomes': 0.0016349459210195354,\n",
       "             'weismuller': 4.1921690282552195e-05,\n",
       "             'borg': 4.1921690282552195e-05,\n",
       "             'carefully': 8.384338056510439e-05,\n",
       "             'luke': 4.1921690282552195e-05,\n",
       "             'remarkably': 4.1921690282552195e-05,\n",
       "             'hopefully': 8.384338056510439e-05,\n",
       "             'differs': 4.1921690282552195e-05,\n",
       "             'off': 0.0008384338056510439,\n",
       "             'commands': 4.1921690282552195e-05,\n",
       "             'soars': 4.1921690282552195e-05,\n",
       "             'needed': 0.00029345183197786536,\n",
       "             'beat': 4.1921690282552195e-05,\n",
       "             'twisted': 4.1921690282552195e-05,\n",
       "             'partly': 4.1921690282552195e-05,\n",
       "             'structures': 4.1921690282552195e-05,\n",
       "             'jack': 8.384338056510439e-05,\n",
       "             'adaptation': 0.00025153014169531317,\n",
       "             'tendres': 4.1921690282552195e-05,\n",
       "             'featured': 0.00016768676113020878,\n",
       "             'field': 0.00012576507084765658,\n",
       "             'david': 4.1921690282552195e-05,\n",
       "             'frankly': 8.384338056510439e-05,\n",
       "             'showed': 0.00041921690282552195,\n",
       "             'understand': 8.384338056510439e-05,\n",
       "             'misses': 0.00016768676113020878,\n",
       "             'succeeds': 0.00016768676113020878,\n",
       "             'through': 0.0005030602833906263,\n",
       "             'drained': 4.1921690282552195e-05,\n",
       "             'captures': 0.00025153014169531317,\n",
       "             'show': 0.00037729521254296975,\n",
       "             'grows': 8.384338056510439e-05,\n",
       "             'director': 0.00025153014169531317,\n",
       "             'closest': 4.1921690282552195e-05,\n",
       "             'afloat': 0.00012576507084765658,\n",
       "             '7': 0.00016768676113020878,\n",
       "             'stargate': 0.00012576507084765658,\n",
       "             'neglected': 4.1921690282552195e-05,\n",
       "             'recently': 0.00012576507084765658,\n",
       "             'tackles': 4.1921690282552195e-05,\n",
       "             'acting': 0.00016768676113020878,\n",
       "             'version': 0.0009641988764987004,\n",
       "             'frailty': 4.1921690282552195e-05,\n",
       "             'don': 0.0012995723987591179,\n",
       "             'network': 0.00012576507084765658,\n",
       "             'several': 0.00046113859310807414,\n",
       "             'channel': 0.00037729521254296975,\n",
       "             'aka': 8.384338056510439e-05,\n",
       "             'along': 0.0006288253542382829,\n",
       "             'drops': 0.00012576507084765658,\n",
       "             'creates': 0.00020960845141276097,\n",
       "             'dead': 0.00012576507084765658,\n",
       "             'e': 0.00016768676113020878,\n",
       "             'these': 0.0005030602833906263,\n",
       "             'jon': 4.1921690282552195e-05,\n",
       "             'focused': 0.00016768676113020878,\n",
       "             'invalids': 4.1921690282552195e-05,\n",
       "             'industry': 0.002138006204410162,\n",
       "             'used': 0.00016768676113020878,\n",
       "             'far': 0.00029345183197786536,\n",
       "             'factories': 4.1921690282552195e-05,\n",
       "             'either': 0.00037729521254296975,\n",
       "             'whether': 0.00020960845141276097,\n",
       "             'felt': 0.0007126687348033873,\n",
       "             'ben': 8.384338056510439e-05,\n",
       "             'draws': 8.384338056510439e-05,\n",
       "             'forbidden': 4.1921690282552195e-05,\n",
       "             'trying': 0.00033537352226041756,\n",
       "             'lets': 0.00012576507084765658,\n",
       "             'point': 4.1921690282552195e-05,\n",
       "             'gidget': 8.384338056510439e-05,\n",
       "             'rights': 0.00016768676113020878,\n",
       "             'character': 8.384338056510439e-05,\n",
       "             'salaryman': 4.1921690282552195e-05,\n",
       "             'shall': 8.384338056510439e-05,\n",
       "             'ray': 0.00016768676113020878,\n",
       "             'poster': 0.00037729521254296975,\n",
       "             'saw': 0.00012576507084765658,\n",
       "             'soldiers': 4.1921690282552195e-05,\n",
       "             'blow': 8.384338056510439e-05,\n",
       "             'alot': 4.1921690282552195e-05,\n",
       "             'makers': 0.0013834157793242224,\n",
       "             'maybe': 0.0006707470445208351,\n",
       "             'phew': 4.1921690282552195e-05,\n",
       "             'better': 0.0007126687348033873,\n",
       "             'way': 4.1921690282552195e-05,\n",
       "             'away': 0.00016768676113020878,\n",
       "             'include': 0.00016768676113020878,\n",
       "             'throughout': 0.00012576507084765658,\n",
       "             'those': 0.00029345183197786536,\n",
       "             'nigh': 4.1921690282552195e-05,\n",
       "             'forget': 8.384338056510439e-05,\n",
       "             'despict': 4.1921690282552195e-05,\n",
       "             'went': 0.0012157290181940136,\n",
       "             'totters': 4.1921690282552195e-05,\n",
       "             'musical': 0.00012576507084765658,\n",
       "             'remains': 0.00046113859310807414,\n",
       "             'spoiler': 0.00016768676113020878,\n",
       "             'let': 0.00037729521254296975,\n",
       "             'wouldn': 0.00046113859310807414,\n",
       "             '25': 4.1921690282552195e-05,\n",
       "             'everything': 0.0006707470445208351,\n",
       "             'ran': 8.384338056510439e-05,\n",
       "             'examines': 4.1921690282552195e-05,\n",
       "             'ultimately': 8.384338056510439e-05,\n",
       "             'adam': 8.384338056510439e-05,\n",
       "             'leboeuf': 4.1921690282552195e-05,\n",
       "             'most': 0.0007126687348033873,\n",
       "             'goodfellas': 8.384338056510439e-05,\n",
       "             'projector': 8.384338056510439e-05,\n",
       "             'slows': 0.00016768676113020878,\n",
       "             'flows': 0.00020960845141276097,\n",
       "             'take': 0.00041921690282552195,\n",
       "             'history': 8.384338056510439e-05,\n",
       "             'kind': 0.00016768676113020878,\n",
       "             'containing': 4.1921690282552195e-05,\n",
       "             'up': 0.0007545904250859395,\n",
       "             'jumped': 0.00012576507084765658,\n",
       "             'each': 0.00016768676113020878,\n",
       "             'realizes': 8.384338056510439e-05,\n",
       "             'sgt': 4.1921690282552195e-05,\n",
       "             'gosh': 8.384338056510439e-05,\n",
       "             'steckert': 4.1921690282552195e-05,\n",
       "             'normal': 4.1921690282552195e-05,\n",
       "             'decades': 4.1921690282552195e-05,\n",
       "             'detective': 8.384338056510439e-05,\n",
       "             'particularly': 0.00020960845141276097,\n",
       "             'carface': 4.1921690282552195e-05,\n",
       "             'times': 4.1921690282552195e-05,\n",
       "             'bears': 8.384338056510439e-05,\n",
       "             'juan': 4.1921690282552195e-05,\n",
       "             'suggests': 0.00020960845141276097,\n",
       "             'allows': 0.00016768676113020878,\n",
       "             'received': 0.00033537352226041756,\n",
       "             'conclusion': 4.1921690282552195e-05,\n",
       "             'duty': 4.1921690282552195e-05,\n",
       "             'forefront': 4.1921690282552195e-05,\n",
       "             'unravels': 4.1921690282552195e-05,\n",
       "             'tore': 4.1921690282552195e-05,\n",
       "             'stink': 4.1921690282552195e-05,\n",
       "             'get': 0.00012576507084765658,\n",
       "             'monique': 4.1921690282552195e-05,\n",
       "             'soldier': 4.1921690282552195e-05,\n",
       "             'washington': 4.1921690282552195e-05,\n",
       "             'appear': 4.1921690282552195e-05,\n",
       "             'dr': 8.384338056510439e-05,\n",
       "             'proves': 8.384338056510439e-05,\n",
       "             'reflects': 4.1921690282552195e-05,\n",
       "             'best': 0.00012576507084765658,\n",
       "             'began': 0.0007126687348033873,\n",
       "             'unforgettable': 4.1921690282552195e-05,\n",
       "             'thinking': 0.00029345183197786536,\n",
       "             'amanda': 8.384338056510439e-05,\n",
       "             'go': 0.00033537352226041756,\n",
       "             'time': 0.00020960845141276097,\n",
       "             'hallucinating': 4.1921690282552195e-05,\n",
       "             'coming': 8.384338056510439e-05,\n",
       "             'rode': 4.1921690282552195e-05,\n",
       "             'sam': 0.00012576507084765658,\n",
       "             'mary': 8.384338056510439e-05,\n",
       "             'defines': 4.1921690282552195e-05,\n",
       "             'hundstage': 4.1921690282552195e-05,\n",
       "             '5': 0.00012576507084765658,\n",
       "             'reaches': 0.00025153014169531317,\n",
       "             'concerns': 0.00029345183197786536,\n",
       "             'than': 0.0005449819736731785,\n",
       "             'soundtrack': 0.00020960845141276097,\n",
       "             'wanders': 8.384338056510439e-05,\n",
       "             'highly': 0.00012576507084765658,\n",
       "             'shocked': 4.1921690282552195e-05,\n",
       "             'adds': 0.00025153014169531317,\n",
       "             'october': 4.1921690282552195e-05,\n",
       "             'portrayed': 0.00016768676113020878,\n",
       "             'develops': 0.00029345183197786536,\n",
       "             'robert': 0.00012576507084765658,\n",
       "             'called': 0.00012576507084765658,\n",
       "             'sounded': 0.00012576507084765658,\n",
       "             'spouting': 4.1921690282552195e-05,\n",
       "             'batman': 4.1921690282552195e-05,\n",
       "             're': 4.1921690282552195e-05,\n",
       "             'theaters': 0.00046113859310807414,\n",
       "             'dealt': 0.00012576507084765658,\n",
       "             'claims': 0.00012576507084765658,\n",
       "             'work': 0.00029345183197786536,\n",
       "             'halloween': 8.384338056510439e-05,\n",
       "             'wearing': 0.00012576507084765658,\n",
       "             'provides': 0.00033537352226041756,\n",
       "             'lives': 0.00012576507084765658,\n",
       "             'try': 0.00012576507084765658,\n",
       "             'simply': 0.0007545904250859395,\n",
       "             'swift': 4.1921690282552195e-05,\n",
       "             'delt': 4.1921690282552195e-05,\n",
       "             'suck': 4.1921690282552195e-05,\n",
       "             'already': 0.00029345183197786536,\n",
       "             'characters': 0.00025153014169531317,\n",
       "             'no': 0.0010061205667812527,\n",
       "             'maintains': 4.1921690282552195e-05,\n",
       "             'tracing': 4.1921690282552195e-05,\n",
       "             'goers': 0.00025153014169531317,\n",
       "             'chose': 0.00012576507084765658,\n",
       "             'turns': 0.001089963947346357,\n",
       "             'read': 0.00025153014169531317,\n",
       "             'nine': 4.1921690282552195e-05,\n",
       "             'watch': 0.00037729521254296975,\n",
       "             'uncle': 4.1921690282552195e-05,\n",
       "             'obviously': 0.00041921690282552195,\n",
       "             'shelley': 4.1921690282552195e-05,\n",
       "             'relates': 8.384338056510439e-05,\n",
       "             'pleasantly': 4.1921690282552195e-05,\n",
       "             'apart': 0.00020960845141276097,\n",
       "             'many': 0.00016768676113020878,\n",
       "             'sums': 4.1921690282552195e-05,\n",
       "             'multilingual': 4.1921690282552195e-05,\n",
       "             'rocket': 4.1921690282552195e-05,\n",
       "             'nowadays': 4.1921690282552195e-05,\n",
       "             'scenes': 8.384338056510439e-05,\n",
       "             'mention': 4.1921690282552195e-05,\n",
       "             'drawing': 4.1921690282552195e-05,\n",
       "             'depicting': 4.1921690282552195e-05,\n",
       "             'send': 4.1921690282552195e-05,\n",
       "             'stevenson': 4.1921690282552195e-05,\n",
       "             'tends': 0.00016768676113020878,\n",
       "             'documentary': 4.1921690282552195e-05,\n",
       "             'commits': 8.384338056510439e-05,\n",
       "             'other': 0.00029345183197786536,\n",
       "             'persona': 4.1921690282552195e-05,\n",
       "             'sweetness': 4.1921690282552195e-05,\n",
       "             'rest': 4.1921690282552195e-05,\n",
       "             'gharlie': 4.1921690282552195e-05,\n",
       "             'said': 0.00020960845141276097,\n",
       "             'likes': 4.1921690282552195e-05,\n",
       "             'buffs': 4.1921690282552195e-05,\n",
       "             'stated': 4.1921690282552195e-05,\n",
       "             'traces': 4.1921690282552195e-05,\n",
       "             'crash': 4.1921690282552195e-05,\n",
       "             '3': 0.0005030602833906263,\n",
       "             'absolutely': 0.00016768676113020878,\n",
       "             'deniselacey2000': 4.1921690282552195e-05,\n",
       "             'cannot': 0.00020960845141276097,\n",
       "             'embrace': 8.384338056510439e-05,\n",
       "             'family': 8.384338056510439e-05,\n",
       "             'highlights': 0.00012576507084765658,\n",
       "             'superman': 4.1921690282552195e-05,\n",
       "             'endless': 4.1921690282552195e-05,\n",
       "             'raises': 8.384338056510439e-05,\n",
       "             'noone': 4.1921690282552195e-05,\n",
       "             'nice': 4.1921690282552195e-05,\n",
       "             'appeals': 0.00012576507084765658,\n",
       "             'became': 0.00029345183197786536,\n",
       "             'wondering': 0.00025153014169531317,\n",
       "             'accurately': 0.00012576507084765658,\n",
       "             'directed': 8.384338056510439e-05,\n",
       "             'landscapes': 4.1921690282552195e-05,\n",
       "             'covers': 0.00016768676113020878,\n",
       "             'perfect': 4.1921690282552195e-05,\n",
       "             'eddie': 0.00012576507084765658,\n",
       "             'toby': 8.384338056510439e-05,\n",
       "             'post': 4.1921690282552195e-05,\n",
       "             'trained': 4.1921690282552195e-05,\n",
       "             'co': 4.1921690282552195e-05,\n",
       "             'leslie': 4.1921690282552195e-05,\n",
       "             'promote': 4.1921690282552195e-05,\n",
       "             'dozens': 4.1921690282552195e-05,\n",
       "             'affected': 4.1921690282552195e-05,\n",
       "             'implies': 0.00012576507084765658,\n",
       "             'whenever': 8.384338056510439e-05,\n",
       "             'trilogy': 4.1921690282552195e-05,\n",
       "             'problems': 4.1921690282552195e-05,\n",
       "             'including': 0.00037729521254296975,\n",
       "             'relies': 0.00046113859310807414,\n",
       "             'richard': 4.1921690282552195e-05,\n",
       "             'left': 0.0007126687348033873,\n",
       "             'criticises': 4.1921690282552195e-05,\n",
       "             'create': 4.1921690282552195e-05,\n",
       "             'wash': 4.1921690282552195e-05,\n",
       "             'adela': 4.1921690282552195e-05,\n",
       "             'drives': 8.384338056510439e-05,\n",
       "             'lovers': 8.384338056510439e-05,\n",
       "             'veers': 8.384338056510439e-05,\n",
       "             'been': 0.00016768676113020878,\n",
       "             'lol': 0.00012576507084765658,\n",
       "             'tried': 0.0006288253542382829,\n",
       "             'sometimes': 0.00020960845141276097,\n",
       "             'anyhow': 4.1921690282552195e-05,\n",
       "             'classics': 4.1921690282552195e-05,\n",
       "             'later': 0.00012576507084765658,\n",
       "             'bart': 4.1921690282552195e-05,\n",
       "             'skips': 0.00020960845141276097,\n",
       "             'commenters': 4.1921690282552195e-05,\n",
       "             'universally': 4.1921690282552195e-05,\n",
       "             'japan': 8.384338056510439e-05,\n",
       "             'bases': 4.1921690282552195e-05,\n",
       "             'feel': 0.00041921690282552195,\n",
       "             'split': 4.1921690282552195e-05,\n",
       "             'ironic': 4.1921690282552195e-05,\n",
       "             'cheesy': 8.384338056510439e-05,\n",
       "             'kudos': 0.00012576507084765658,\n",
       "             'complimented': 4.1921690282552195e-05,\n",
       "             'tiny': 4.1921690282552195e-05,\n",
       "             'nick': 4.1921690282552195e-05,\n",
       "             'deservedly': 4.1921690282552195e-05,\n",
       "             'madhavi': 4.1921690282552195e-05,\n",
       "             'dom': 4.1921690282552195e-05,\n",
       "             'lays': 0.00012576507084765658,\n",
       "             'boogie': 8.384338056510439e-05,\n",
       "             'predominantly': 4.1921690282552195e-05,\n",
       "             'store': 0.0007126687348033873,\n",
       "             'camera': 8.384338056510439e-05,\n",
       "             'bubbles': 4.1921690282552195e-05,\n",
       "             'today': 0.00012576507084765658,\n",
       "             'under': 0.00029345183197786536,\n",
       "             'mr': 0.00012576507084765658,\n",
       "             'finished': 8.384338056510439e-05,\n",
       "             'thank': 4.1921690282552195e-05,\n",
       "             'should': 0.002347614655822923,\n",
       "             'juliette': 4.1921690282552195e-05,\n",
       "             'spoilers': 0.00016768676113020878,\n",
       "             'shahid': 8.384338056510439e-05,\n",
       "             'anybody': 4.1921690282552195e-05,\n",
       "             'story': 0.00029345183197786536,\n",
       "             'cagney': 8.384338056510439e-05,\n",
       "             'movies': 8.384338056510439e-05,\n",
       "             'somehow': 0.00025153014169531317,\n",
       "             'understanding': 4.1921690282552195e-05,\n",
       "             'cube': 4.1921690282552195e-05,\n",
       "             'whoopi': 4.1921690282552195e-05,\n",
       "             'stage': 4.1921690282552195e-05,\n",
       "             'playing': 0.00012576507084765658,\n",
       "             'henceforth': 4.1921690282552195e-05,\n",
       "             'illustrates': 0.00012576507084765658,\n",
       "             'consists': 0.0007965121153684916,\n",
       "             'review': 8.384338056510439e-05,\n",
       "             'fascinating': 0.00012576507084765658,\n",
       "             'masterfully': 4.1921690282552195e-05,\n",
       "             'whose': 4.1921690282552195e-05,\n",
       "             'describes': 0.00012576507084765658,\n",
       "             'genre': 4.1921690282552195e-05,\n",
       "             'public': 8.384338056510439e-05,\n",
       "             'lover': 8.384338056510439e-05,\n",
       "             'want': 4.1921690282552195e-05,\n",
       "             'mark': 4.1921690282552195e-05,\n",
       "             'setting': 4.1921690282552195e-05,\n",
       "             '48': 4.1921690282552195e-05,\n",
       "             'frame': 4.1921690282552195e-05,\n",
       "             'worthy': 4.1921690282552195e-05,\n",
       "             'gerard': 4.1921690282552195e-05,\n",
       "             'vanilla': 4.1921690282552195e-05,\n",
       "             'prince': 0.00012576507084765658,\n",
       "             'pitt': 4.1921690282552195e-05,\n",
       "             'excellent': 0.00016768676113020878,\n",
       "             'frwl': 4.1921690282552195e-05,\n",
       "             'sasquatch': 8.384338056510439e-05,\n",
       "             'longer': 0.00012576507084765658,\n",
       "             'sort': 0.00020960845141276097,\n",
       "             'reunites': 4.1921690282552195e-05,\n",
       "             'looked': 0.0006707470445208351,\n",
       "             'failed': 0.0005449819736731785,\n",
       "             'hella': 4.1921690282552195e-05,\n",
       "             'interestingly': 8.384338056510439e-05,\n",
       "             'appeared': 0.00025153014169531317,\n",
       "             'compresses': 4.1921690282552195e-05,\n",
       "             '9': 0.00012576507084765658,\n",
       "             'recreation': 4.1921690282552195e-05,\n",
       "             'oftenly': 4.1921690282552195e-05,\n",
       "             'colony': 4.1921690282552195e-05,\n",
       "             'rolls': 8.384338056510439e-05,\n",
       "             'theatre': 0.0005030602833906263,\n",
       "             'crew': 0.00020960845141276097,\n",
       "             'defending': 4.1921690282552195e-05,\n",
       "             'envelopes': 4.1921690282552195e-05,\n",
       "             'full': 4.1921690282552195e-05,\n",
       "             'exposure': 4.1921690282552195e-05,\n",
       "             'deciding': 4.1921690282552195e-05,\n",
       "             'invited': 4.1921690282552195e-05,\n",
       "             'flopped': 8.384338056510439e-05,\n",
       "             'high': 0.00016768676113020878,\n",
       "             'respected': 4.1921690282552195e-05,\n",
       "             'renders': 4.1921690282552195e-05,\n",
       "             'look': 0.0010480422570638048,\n",
       "             'producers': 8.384338056510439e-05,\n",
       "             'depicted': 0.00020960845141276097,\n",
       "             'last': 0.00041921690282552195,\n",
       "             'spends': 0.0005030602833906263,\n",
       "             'becoming': 0.00016768676113020878,\n",
       "             'captivates': 4.1921690282552195e-05,\n",
       "             'trantula': 4.1921690282552195e-05,\n",
       "             'came': 0.0013834157793242224,\n",
       "             'lacks': 0.0009222771862161483,\n",
       "             'folks': 8.384338056510439e-05,\n",
       "             'recommended': 0.00012576507084765658,\n",
       "             'julia': 8.384338056510439e-05,\n",
       "             'special': 4.1921690282552195e-05,\n",
       "             'terrific': 4.1921690282552195e-05,\n",
       "             'chris': 8.384338056510439e-05,\n",
       "             'patricia': 4.1921690282552195e-05,\n",
       "             'atlantis': 4.1921690282552195e-05,\n",
       "             'aimed': 4.1921690282552195e-05,\n",
       "             'bug': 4.1921690282552195e-05,\n",
       "             'states': 0.00029345183197786536,\n",
       "             'mirrors': 4.1921690282552195e-05,\n",
       "             'rating': 0.00016768676113020878,\n",
       "             'switching': 4.1921690282552195e-05,\n",
       "             'proceeds': 0.00016768676113020878,\n",
       "             'good': 0.00029345183197786536,\n",
       "             'oh': 0.00037729521254296975,\n",
       "             'past': 4.1921690282552195e-05,\n",
       "             'ohad': 4.1921690282552195e-05,\n",
       "             'contained': 0.00025153014169531317,\n",
       "             'luster': 4.1921690282552195e-05,\n",
       "             'loved': 0.00012576507084765658,\n",
       "             'fits': 0.00012576507084765658,\n",
       "             'officially': 4.1921690282552195e-05,\n",
       "             'regarding': 8.384338056510439e-05,\n",
       "             'music': 8.384338056510439e-05,\n",
       "             '2': 0.00029345183197786536,\n",
       "             'taylor': 4.1921690282552195e-05,\n",
       "             'against': 8.384338056510439e-05,\n",
       "             'production': 0.00016768676113020878,\n",
       "             'silent': 4.1921690282552195e-05,\n",
       "             'wore': 0.00016768676113020878,\n",
       "             'meanders': 0.00020960845141276097,\n",
       "             'falters': 8.384338056510439e-05,\n",
       "             'henry': 4.1921690282552195e-05,\n",
       "             'stores': 4.1921690282552195e-05,\n",
       "             'remarks': 4.1921690282552195e-05,\n",
       "             'animation': 8.384338056510439e-05,\n",
       "             'reminds': 0.00016768676113020878,\n",
       "             'disappointed': 0.00016768676113020878,\n",
       "             'hitler': 4.1921690282552195e-05,\n",
       "             'somewhat': 0.00037729521254296975,\n",
       "             'needs': 0.00020960845141276097,\n",
       "             'prior': 4.1921690282552195e-05,\n",
       "             'enough': 4.1921690282552195e-05,\n",
       "             'enjoyable': 8.384338056510439e-05,\n",
       "             'why': 0.0007126687348033873,\n",
       "             'enters': 8.384338056510439e-05,\n",
       "             'hunt': 4.1921690282552195e-05,\n",
       "             'fricker': 4.1921690282552195e-05,\n",
       "             'entertainment': 4.1921690282552195e-05,\n",
       "             'felix': 4.1921690282552195e-05,\n",
       "             'pixar': 4.1921690282552195e-05,\n",
       "             'franchise': 4.1921690282552195e-05,\n",
       "             'pits': 4.1921690282552195e-05,\n",
       "             'jacknife': 4.1921690282552195e-05,\n",
       "             'freddy': 4.1921690282552195e-05,\n",
       "             'views': 4.1921690282552195e-05,\n",
       "             'finally': 0.0007965121153684916,\n",
       "             'aliens': 8.384338056510439e-05,\n",
       "             'believable': 4.1921690282552195e-05,\n",
       "             'woody': 4.1921690282552195e-05,\n",
       "             'combines': 4.1921690282552195e-05,\n",
       "             'songs': 8.384338056510439e-05,\n",
       "             'blowing': 4.1921690282552195e-05,\n",
       "             'channels': 0.00037729521254296975,\n",
       "             'per': 8.384338056510439e-05,\n",
       "             'busting': 4.1921690282552195e-05,\n",
       "             'equally': 4.1921690282552195e-05,\n",
       "             'criterion': 4.1921690282552195e-05,\n",
       "             'premiere': 8.384338056510439e-05,\n",
       "             'dorcas': 4.1921690282552195e-05,\n",
       "             'vivah': 4.1921690282552195e-05,\n",
       "             'honestly': 8.384338056510439e-05,\n",
       "             'picked': 4.1921690282552195e-05,\n",
       "             'okay': 0.00016768676113020878,\n",
       "             'explains': 4.1921690282552195e-05,\n",
       "             'izo': 4.1921690282552195e-05,\n",
       "             'proved': 0.00016768676113020878,\n",
       "             'provided': 8.384338056510439e-05,\n",
       "             'exposes': 4.1921690282552195e-05,\n",
       "             'thanks': 4.1921690282552195e-05,\n",
       "             'hippies': 4.1921690282552195e-05,\n",
       "             'virginia': 4.1921690282552195e-05,\n",
       "             'inveigh': 4.1921690282552195e-05,\n",
       "             'hmmm': 8.384338056510439e-05,\n",
       "             'different': 4.1921690282552195e-05,\n",
       "             'unlike': 0.00012576507084765658,\n",
       "             'alone': 0.00025153014169531317,\n",
       "             'amuses': 4.1921690282552195e-05,\n",
       "             'cosas': 4.1921690282552195e-05,\n",
       "             'nicely': 4.1921690282552195e-05,\n",
       "             'houses': 0.00016768676113020878,\n",
       "             'occupies': 8.384338056510439e-05,\n",
       "             'watching': 0.00020960845141276097,\n",
       "             'scared': 8.384338056510439e-05,\n",
       "             'possible': 4.1921690282552195e-05,\n",
       "             'capote': 4.1921690282552195e-05,\n",
       "             'guy': 4.1921690282552195e-05,\n",
       "             'falsely': 4.1921690282552195e-05,\n",
       "             'confuses': 8.384338056510439e-05,\n",
       "             'elevates': 4.1921690282552195e-05,\n",
       "             'digital': 4.1921690282552195e-05,\n",
       "             'supposedly': 0.00016768676113020878,\n",
       "             'idea': 8.384338056510439e-05,\n",
       "             'gradually': 4.1921690282552195e-05,\n",
       "             'camille': 4.1921690282552195e-05,\n",
       "             'suffered': 0.00012576507084765658,\n",
       "             'forgets': 0.00012576507084765658,\n",
       "             'debuted': 4.1921690282552195e-05,\n",
       "             'whereas': 8.384338056510439e-05,\n",
       "             'employs': 4.1921690282552195e-05,\n",
       "             'couldn': 0.0005030602833906263,\n",
       "             'rescuing': 4.1921690282552195e-05,\n",
       "             'feeling': 0.00025153014169531317,\n",
       "             'dialogue': 4.1921690282552195e-05,\n",
       "             'murder': 4.1921690282552195e-05,\n",
       "             'bad': 0.00020960845141276097,\n",
       "             'hurt': 8.384338056510439e-05,\n",
       "             'concludes': 8.384338056510439e-05,\n",
       "             'see': 8.384338056510439e-05,\n",
       "             '1': 0.0006707470445208351,\n",
       "             'early': 0.00012576507084765658,\n",
       "             'available': 4.1921690282552195e-05,\n",
       "             'cuts': 0.00029345183197786536,\n",
       "             'himself': 4.1921690282552195e-05,\n",
       "             'wins': 4.1921690282552195e-05,\n",
       "             'doing': 8.384338056510439e-05,\n",
       "             'around': 0.00012576507084765658,\n",
       "             'remembering': 4.1921690282552195e-05,\n",
       "             'departs': 4.1921690282552195e-05,\n",
       "             'attempts': 0.00041921690282552195,\n",
       "             'r': 0.00012576507084765658,\n",
       "             'wants': 0.00041921690282552195,\n",
       "             'sees': 0.00012576507084765658,\n",
       "             'starr': 4.1921690282552195e-05,\n",
       "             'cheats': 4.1921690282552195e-05,\n",
       "             'encourages': 8.384338056510439e-05,\n",
       "             'think': 4.1921690282552195e-05,\n",
       "             'suddenly': 0.00012576507084765658,\n",
       "             'slugs': 8.384338056510439e-05,\n",
       "             'final': 0.00012576507084765658,\n",
       "             'empty': 4.1921690282552195e-05,\n",
       "             'appeal': 4.1921690282552195e-05,\n",
       "             'leave': 0.00020960845141276097,\n",
       "             'robin': 8.384338056510439e-05,\n",
       "             'due': 4.1921690282552195e-05,\n",
       "             'saying': 0.00016768676113020878,\n",
       "             'ignoring': 4.1921690282552195e-05,\n",
       "             'filled': 4.1921690282552195e-05,\n",
       "             'predictably': 4.1921690282552195e-05,\n",
       "             'bored': 4.1921690282552195e-05,\n",
       "             'winds': 0.00016768676113020878,\n",
       "             'challenges': 4.1921690282552195e-05,\n",
       "             'dustin': 4.1921690282552195e-05,\n",
       "             'slides': 0.00012576507084765658,\n",
       "             'attain': 4.1921690282552195e-05,\n",
       "             'speeded': 4.1921690282552195e-05,\n",
       "             'sucks': 0.0005869036639557307,\n",
       "             'worse': 0.00020960845141276097,\n",
       "             'page': 4.1921690282552195e-05,\n",
       "             'raimond': 4.1921690282552195e-05,\n",
       "             'claire': 4.1921690282552195e-05,\n",
       "             'confusing': 4.1921690282552195e-05,\n",
       "             'sound': 0.00016768676113020878,\n",
       "             'unwatchable': 8.384338056510439e-05,\n",
       "             'nuclear': 4.1921690282552195e-05,\n",
       "             ...})"
      ]
     },
     "execution_count": 97,
     "metadata": {},
     "output_type": "execute_result"
    }
   ],
   "source": [
    "trigram_model['the', 'movie']"
   ]
  },
  {
   "cell_type": "markdown",
   "metadata": {
    "slideshow": {
     "slide_type": "slide"
    }
   },
   "source": [
    "# Interactive User Input\n",
    "Enter in any number of words\n",
    "- 1 word, use bigram model\n",
    "- at least 2 words, use the last two words in trigram model"
   ]
  },
  {
   "cell_type": "code",
   "execution_count": 98,
   "metadata": {
    "slideshow": {
     "slide_type": "fragment"
    }
   },
   "outputs": [],
   "source": [
    "def make_prediction(text):\n",
    "    '''\n",
    "        input: string of text\n",
    "    function: tokenize the string\n",
    "        1. if string has 2 or more tokens, use the last two tokens\n",
    "        with trigram prediction\n",
    "        2. if string has 1 token, use bigram prediction\n",
    "    return: predicted word\n",
    "    '''\n",
    "    user_tokens = tokenizer.tokenize(text)\n",
    "    #print(user_tokens)\n",
    "    if len(user_tokens) >= 2:\n",
    "        pred_words = trigram_predict_next_word(user_tokens)[0]\n",
    "    elif len(user_tokens) == 1:\n",
    "        user_tokens = user_tokens[0]\n",
    "        pred_words = bigram_predict_next_word(user_tokens)[0]\n",
    "    return print('The predicted next word:', pred_words)\n",
    "    "
   ]
  },
  {
   "cell_type": "markdown",
   "metadata": {
    "slideshow": {
     "slide_type": "slide"
    }
   },
   "source": [
    "# Directions\n",
    "1. Press shift + enter\n",
    "2. Type a phrase\n",
    "3. Press enter\n"
   ]
  },
  {
   "cell_type": "code",
   "execution_count": 106,
   "metadata": {
    "slideshow": {
     "slide_type": "subslide"
    }
   },
   "outputs": [
    {
     "name": "stdout",
     "output_type": "stream",
     "text": [
      "Please enter a phrase: an engine\n",
      "an engine\n",
      "The predicted next word: a\n"
     ]
    }
   ],
   "source": [
    "user_input = input('Please enter a phrase: ')\n",
    "print(user_input)\n",
    "make_prediction(user_input)"
   ]
  },
  {
   "cell_type": "code",
   "execution_count": 100,
   "metadata": {
    "slideshow": {
     "slide_type": "skip"
    }
   },
   "outputs": [],
   "source": [
    "# code to create the slides\n",
    "# run this in the terminal\n",
    "# change the directory first\n",
    "#jupyter nbconvert Yard Prediction Field Graph.ipynb --to slides --post serve"
   ]
  },
  {
   "cell_type": "markdown",
   "metadata": {},
   "source": [
    "# Bar Graphs for Reports"
   ]
  },
  {
   "cell_type": "code",
   "execution_count": 101,
   "metadata": {},
   "outputs": [],
   "source": [
    "# from Bing-Je\n",
    "def trigram_predict_next_word_chart(words):\n",
    "    user_tokens = tokenizer.tokenize(words)\n",
    "    # get the next word\n",
    "    next_word = trigram_model[(user_tokens[0], user_tokens[1])]\n",
    "    pred_words = trigram_predict_next_word(words)\n",
    "    # get the top 10 words for next word\n",
    "    top10words = Counter(next_word).most_common(10)\n",
    "    \n",
    "    if len(top10words) > 0:\n",
    "        predicted_words = list(zip(*top10words))[0]\n",
    "        prob_score = list(zip(*top10words))[1]\n",
    "        x_pos = np.arange(len(predicted_words))\n",
    "        \n",
    "        plt.bar(x_pos, prob_score, align = 'center')\n",
    "        for i in range(len(x_pos)):\n",
    "            plt.text(x = i - 0.35, y = prob_score[i] + 0.005,\n",
    "                    s = round(prob_score[i], 3))\n",
    "        plt.xticks(x_pos, predicted_words)\n",
    "        plt.ylabel('Probability Score')\n",
    "        plt.xlabel('Predicted Words')\n",
    "        plt.title('Predicted words for \"{} {}\" with Trigram model'.format(user_tokens[0], user_tokens[1]))\n",
    "        plt.ylim(0, max(prob_score)+0.02)\n",
    "        plt.show()\n",
    "        \n",
    "        if len(pred_words) > 1:\n",
    "            y = []\n",
    "            for word in pred_words:\n",
    "                y.append(fdist[word])\n",
    "            plt.bar(x_pos, y)\n",
    "            for i in range(len(predicted_words)):\n",
    "                plt.text(x = i - 0.25, y = y[i], s = y[i])\n",
    "            plt.xticks(x_pos, pred_words)\n",
    "            plt.ylabel('Overall Count')\n",
    "            plt.xlabel('Predicted Words')\n",
    "            plt.title('Word to choose from predicted word list')\n",
    "            plt.show()\n",
    "    else:\n",
    "        print('no luck')"
   ]
  },
  {
   "cell_type": "code",
   "execution_count": 102,
   "metadata": {},
   "outputs": [
    {
     "data": {
      "image/png": "[encoded data removed]",
      "text/plain": [
       "<Figure size 432x288 with 1 Axes>"
      ]
     },
     "metadata": {
      "needs_background": "light"
     },
     "output_type": "display_data"
    }
   ],
   "source": [
    "trigram_predict_next_word_chart('a movie')"
   ]
  },
  {
   "cell_type": "code",
   "execution_count": 103,
   "metadata": {},
   "outputs": [
    {
     "data": {
      "image/png": "[encoded data removed]",
      "text/plain": [
       "<Figure size 432x288 with 1 Axes>"
      ]
     },
     "metadata": {
      "needs_background": "light"
     },
     "output_type": "display_data"
    }
   ],
   "source": [
    "dt_tups = tag_trigram_model['DT', 'NN']\n",
    "lists = sorted(dt_tups.items(), key=lambda dt_tups: dt_tups[1], reverse = True) # sorted by key, return a list of tuples\n",
    "\n",
    "x, y = zip(*lists[:10]) # unpack a list of pairs into two tuples\n",
    "for i in np.arange(0,10):\n",
    "    plt.text(x = i - 0.35, y = y[i] + 0.005,\n",
    "            s = str(round(y[i], 3)))\n",
    "#plt.text(x = np.arange(0,10)-0.3, y = y + 0.01, s = str(round(y,3)))\n",
    "plt.bar(x, y)\n",
    "plt.title('Probability of Next POS after \"DT, NN\"')\n",
    "plt.xlabel('Predicted Part of Speech')\n",
    "plt.ylabel('Probability Score')\n",
    "plt.ylim(0, max(y)+0.05)\n",
    "plt.show()"
   ]
  },
  {
   "cell_type": "code",
   "execution_count": 104,
   "metadata": {},
   "outputs": [
    {
     "data": {
      "text/plain": [
       "0.16217102102865796"
      ]
     },
     "execution_count": 104,
     "metadata": {},
     "output_type": "execute_result"
    }
   ],
   "source": [
    "y[1]"
   ]
  },
  {
   "cell_type": "code",
   "execution_count": null,
   "metadata": {},
   "outputs": [],
   "source": []
  }
 ],
 "metadata": {
  "kernelspec": {
   "display_name": "Python 3",
   "language": "python",
   "name": "python3"
  },
  "language_info": {
   "codemirror_mode": {
    "name": "ipython",
    "version": 3
   },
   "file_extension": ".py",
   "mimetype": "text/x-python",
   "name": "python",
   "nbconvert_exporter": "python",
   "pygments_lexer": "ipython3",
   "version": "3.7.6"
  }
 },
 "nbformat": 4,
 "nbformat_minor": 4
}
